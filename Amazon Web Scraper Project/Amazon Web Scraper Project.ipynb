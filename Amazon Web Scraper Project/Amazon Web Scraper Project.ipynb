{
 "cells": [
  {
   "cell_type": "code",
   "execution_count": 1,
   "id": "9f52e216-86cd-45df-8aae-88769f987027",
   "metadata": {},
   "outputs": [],
   "source": [
    "#import libraries\n",
    "\n",
    "from bs4 import BeautifulSoup\n",
    "import requests\n",
    "import time\n",
    "import datetime\n",
    "import smtplib"
   ]
  },
  {
   "cell_type": "code",
   "execution_count": 11,
   "id": "a257311d-0da8-402f-947e-e16f9216f290",
   "metadata": {},
   "outputs": [
    {
     "name": "stdout",
     "output_type": "stream",
     "text": [
      "DUDEME Programmers Life No Hugs and Kisses T-Shirt, 100% Cotton T-Shirts for Programmer, Coding, Developer, Software Mens, Round Neck T Shirts, Half Sleeve Tshirt for Men\n",
      "449\n"
     ]
    }
   ],
   "source": [
    "# Connect to website\n",
    "url = 'https://www.amazon.in/DUDEME-Programmers-Kisses-Programmer-Developer/dp/B08GCXV1TK/ref=sr_1_7?sr=8-7'\n",
    "headers = {\n",
    "    'User-Agent': 'Mozilla/5.0 (Windows NT 10.0; Win64; x64) AppleWebKit/537.36 (KHTML, like Gecko) Chrome/91.0.4472.124 Safari/537.36 Brave/91.0.4472.124'\n",
    "}\n",
    "page = requests.get(url, headers=headers)\n",
    "\n",
    "soup1 = BeautifulSoup(page.content, \"html.parser\")\n",
    "\n",
    "soup2 = BeautifulSoup(soup1.prettify(), \"html.parser\")\n",
    "\n",
    "title_element = soup2.find(id='productTitle')\n",
    "if title_element:\n",
    "    title = title_element.get_text().strip()\n",
    "else:\n",
    "    title = \"Title not found\"\n",
    "# Find the parent element containing the price\n",
    "price_parent_element = soup2.find('span', {'class': 'a-price'})\n",
    "if price_parent_element:\n",
    "    # Find the price within the parent element\n",
    "    price_element = price_parent_element.find('span', {'class': 'a-price-whole'})\n",
    "    if price_element:\n",
    "        price = price_element.get_text().strip()\n",
    "    else:\n",
    "        price = \"Price not found\"\n",
    "else:\n",
    "    price = \"Price not found\"\n",
    "print(title)\n",
    "print(price)\n",
    "\n"
   ]
  },
  {
   "cell_type": "code",
   "execution_count": null,
   "id": "273d2a06-ead8-4e5d-9a63-3dc3867fb67d",
   "metadata": {},
   "outputs": [],
   "source": [
    "import datetime\n",
    "today=datetime.date.today()\n",
    "print(today)"
   ]
  },
  {
   "cell_type": "code",
   "execution_count": 23,
   "id": "17da0899-84a8-4c6d-b4ae-81a22f61d28b",
   "metadata": {},
   "outputs": [],
   "source": [
    "#Adding all the data in CSV file\n",
    "import csv\n",
    "header = ['Title', 'Price','Date']\n",
    "data = [title, price, today]\n",
    "\n",
    "with open('AmazonwebscraperDataSet.csv', 'w', newline='', encoding='UTF8') as f:\n",
    "    writer = csv.writer(f)\n",
    "    writer.writerow(header)\n",
    "    writer.writerow(data)\n"
   ]
  },
  {
   "cell_type": "code",
   "execution_count": null,
   "id": "b9b2e42f-ee2c-486f-a0bd-a8b5cbbe8618",
   "metadata": {},
   "outputs": [],
   "source": [
    "import pandas as pd\n",
    "df = pd.read_csv(r'C:\\Users\\sohan\\AmazonwebscraperDataSet.csv')\n",
    "print(df)\n"
   ]
  },
  {
   "cell_type": "code",
   "execution_count": 29,
   "id": "5503adcb-c38a-4135-b56a-6f2ad730300f",
   "metadata": {},
   "outputs": [],
   "source": [
    "#Appending the data in the CSV file\n",
    "with open('AmazonwebscraperDataSet.csv', 'a+', newline='', encoding='UTF8') as f:\n",
    "    writer = csv.writer(f)\n",
    "    writer.writerow(data)"
   ]
  },
  {
   "cell_type": "code",
   "execution_count": null,
   "id": "99690d43-a1fb-4a07-8bf2-9cc8fab28cf9",
   "metadata": {},
   "outputs": [],
   "source": [
    "def check():\n",
    "    # Connect to website\n",
    "    url = 'https://www.amazon.in/DUDEME-Programmers-Kisses-Programmer-Developer/dp/B08GCXV1TK/ref=sr_1_7?sr=8-7'\n",
    "    headers = {\n",
    "        'User-Agent': 'Mozilla/5.0 (Windows NT 10.0; Win64; x64) AppleWebKit/537.36 (KHTML, like Gecko) Chrome/91.0.4472.124 Safari/537.36 Brave/91.0.4472.124'\n",
    "    }\n",
    "    page = requests.get(url, headers=headers)\n",
    "    \n",
    "    soup1 = BeautifulSoup(page.content, \"html.parser\")\n",
    "    \n",
    "    soup2 = BeautifulSoup(soup1.prettify(), \"html.parser\")\n",
    "    \n",
    "    title_element = soup2.find(id='productTitle')\n",
    "    if title_element:\n",
    "        title = title_element.get_text().strip()\n",
    "    else:\n",
    "        title = \"Title not found\"\n",
    "    \n",
    "    # Find the parent element containing the price\n",
    "    price_parent_element = soup2.find('span', {'class': 'a-price'})\n",
    "    if price_parent_element:\n",
    "        # Find the price within the parent element\n",
    "        price_element = price_parent_element.find('span', {'class': 'a-price-whole'})\n",
    "        if price_element:\n",
    "            price = price_element.get_text().strip()\n",
    "        else:\n",
    "            price = \"Price not found\"\n",
    "    else:\n",
    "        price = \"Price not found\"\n",
    "    \n",
    "    today = datetime.date.today()\n",
    "    header = ['Title', 'Price', 'Date']\n",
    "    data = [title, price, today]\n",
    "    \n",
    "    # Appending the data to the CSV file\n",
    "    with open('AmazonwebscraperDataSet.csv', 'a+', newline='', encoding='UTF8') as f:\n",
    "        writer = csv.writer(f)\n",
    "        writer.writerow(data)\n",
    "\n",
    "    while True:\n",
    "        time.sleep(0)\n",
    "        df = pd.read_csv('AmazonwebscraperDataSet.csv')\n",
    "        print(df)\n",
    "\n",
    "check()\n"
   ]
  },
  {
   "cell_type": "code",
   "execution_count": null,
   "id": "cb76369a-63e8-4572-861d-4a53da722adb",
   "metadata": {},
   "outputs": [],
   "source": [
    "\n",
    "def send_mail():\n",
    "    try:\n",
    "        # Set up the server\n",
    "        server = smtplib.SMTP_SSL('smtp.gmail.com', 465)\n",
    "        server.ehlo()  # Extended HELO (EHLO) command\n",
    "\n",
    "        # Log in to the server\n",
    "        server.login('sohankrshah000@gmail.com', 'password')\n",
    "\n",
    "        # Create the email content\n",
    "        subject = \"The Tshirt you want is below\"\n",
    "        body = \"Sohan, This moment we have been waiting for is here.\"\n",
    "        msg = f\"Subject: {subject}\\n\\n{body}\"\n",
    "\n",
    "        # Send the email\n",
    "        server.sendmail('sohankrshah000@gmail.com', 'sohanrkshah000@gmail.com', msg)\n",
    "        \n",
    "        # Quit the server\n",
    "        server.quit()\n",
    "\n",
    "        print(\"Email sent successfully!\")\n",
    "    except Exception as e:\n",
    "        print(f\"Failed to send email: {e}\")\n",
    "\n",
    "# Call the function\n",
    "send_mail()\n"
   ]
  },
  {
   "cell_type": "code",
   "execution_count": null,
   "id": "70a30294-7ef8-4ce0-a808-9b9b0e3f0e6c",
   "metadata": {},
   "outputs": [],
   "source": []
  }
 ],
 "metadata": {
  "kernelspec": {
   "display_name": "Python 3 (ipykernel)",
   "language": "python",
   "name": "python3"
  },
  "language_info": {
   "codemirror_mode": {
    "name": "ipython",
    "version": 3
   },
   "file_extension": ".py",
   "mimetype": "text/x-python",
   "name": "python",
   "nbconvert_exporter": "python",
   "pygments_lexer": "ipython3",
   "version": "3.12.2"
  }
 },
 "nbformat": 4,
 "nbformat_minor": 5
}
